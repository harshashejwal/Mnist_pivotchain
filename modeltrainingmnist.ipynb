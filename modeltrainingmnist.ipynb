{
  "cells": [
    {
      "cell_type": "code",
      "execution_count": 1,
      "metadata": {
        "colab": {
          "base_uri": "https://localhost:8080/"
        },
        "id": "Ypra1gC1bszQ",
        "outputId": "ab7e4133-d6c0-4c52-be47-fe212c2c2e57"
      },
      "outputs": [
        {
          "name": "stdout",
          "output_type": "stream",
          "text": [
            "1313/1313 [==============================] - 167s 112ms/step - loss: 0.3229 - accuracy: 0.8977 - val_loss: 0.1222 - val_accuracy: 0.9617\n",
            "313/313 [==============================] - 10s 32ms/step\n",
            "313/313 [==============================] - 11s 33ms/step - loss: 0.1045 - accuracy: 0.9690\n",
            "test loss on 10000 test samples 0.10449709743261337\n",
            "validation Accuracy on 10000 test samples 0.968999981880188\n"
          ]
        }
      ],
      "source": [
        "import tensorflow as tf\n",
        "from tensorflow.keras.models import Sequential\n",
        "from tensorflow.keras.layers import Dense, Dropout,Activation,Flatten,Conv2D,MaxPooling2D\n",
        "import numpy as np\n",
        "import matplotlib.pyplot as plt\n",
        "\n",
        "mnist = tf.keras.datasets.mnist\n",
        "(x_train, y_train),(x_test,y_test) = mnist.load_data()\n",
        "x_train=tf.keras.utils.normalize(x_train,axis=1)\n",
        "x_test=tf.keras.utils.normalize(x_test,axis=1)\n",
        "\n",
        "\n",
        "x_trainr=np.array(x_train).reshape(-1,28,28,1)\n",
        "x_testr=np.array(x_test).reshape(-1,28,28,1)\n",
        "\n",
        "\n",
        "model=Sequential()\n",
        "\n",
        "#1st convolustion layer\n",
        "model.add(Conv2D(64,(3,3),input_shape=x_trainr.shape[1:]))#only for 1st convotution layer requred to mesion input layer size#64 FILTER ARE APPLIED TO INPUT\n",
        "model.add(Activation(\"relu\"))#TO MAKE A NON LINEAR\n",
        "model.add(MaxPooling2D(pool_size=(2,2)))#ONLY IT TAKE SINGLE 2*2 MATRIX OTHER WILL REMOVE\n",
        "\n",
        "#2nd convolustion layer\n",
        "model.add(Conv2D(64,(3,3)))\n",
        "model.add(Activation(\"relu\"))\n",
        "model.add(MaxPooling2D(pool_size=(2,2)))\n",
        "\n",
        "#3rd convolustion layer\n",
        "model.add(Conv2D(64,(3,3)))\n",
        "model.add(Activation(\"relu\"))\n",
        "model.add(MaxPooling2D(pool_size=(2,2)))\n",
        "\n",
        "#Fully connected layer1\n",
        "model.add (Flatten()) #before fully connected need to flatten 2D to 1D\n",
        "model.add(Dense(64))\n",
        "model.add(Activation('relu'))\n",
        "\n",
        "#Fully connected layer2\n",
        "model.add(Dense(32))\n",
        "model.add(Activation('relu'))\n",
        "\n",
        "#last fully layerd\n",
        "model.add(Dense(10))#must be 10\n",
        "model.add(Activation('softmax'))\n",
        "\n",
        "model.compile(loss='sparse_categorical_crossentropy',optimizer='adam',metrics=['accuracy'])\n",
        "\n",
        "model.fit(x_trainr,y_train,epochs=1,validation_split=0.3)\n",
        "\n",
        "predictions=model.predict([x_testr])\n",
        "\n",
        "test_loss,test_acc= model.evaluate(x_testr,y_test)\n",
        "print(\"test loss on 10000 test samples\",test_loss)\n",
        "print(\"validation Accuracy on 10000 test samples\",test_acc)\n",
        "\n",
        "import pickle\n",
        "#pickle_out=open('predictions.pkl','wb')\n",
        "#ickle.dump(predictions,pickle_out)\n",
        "#pickle_out.close()\n",
        "\n",
        "pickl=open('test_data.pkl','wb')\n",
        "pickle.dump(x_testr,open('test_data.pkl','wb'))\n",
        "pickl.close()         \n",
        "\n"
      ]
    },
    {
      "cell_type": "code",
      "execution_count": 2,
      "metadata": {
        "colab": {
          "base_uri": "https://localhost:8080/",
          "height": 320
        },
        "id": "TDFu4QvWhPvY",
        "outputId": "63807c16-ab1c-4c3c-c087-1ff7039ace8f"
      },
      "outputs": [],
      "source": [
        "#import matplotlib.pyplot as plt\n",
        "i=int(input(\"Enter the index number you want to print between the images Mnist test dataset from  1 to 10000 \"))\n",
        "print(np.argmax(predictions[i]))\n",
        "#plt.imshow(x_test[i],cmap= plt.cm.binary)"
      ]
    },
    {
      "cell_type": "code",
      "execution_count": 2,
      "metadata": {
        "colab": {
          "base_uri": "https://localhost:8080/"
        },
        "id": "_NuPWGjcJq4C",
        "outputId": "4b001928-77c4-45d7-87a0-a8d46f0ac7a2"
      },
      "outputs": [
        {
          "ename": "NameError",
          "evalue": "name 'model' is not defined",
          "output_type": "error",
          "traceback": [
            "\u001b[1;31m---------------------------------------------------------------------------\u001b[0m",
            "\u001b[1;31mNameError\u001b[0m                                 Traceback (most recent call last)",
            "Cell \u001b[1;32mIn [2], line 3\u001b[0m\n\u001b[0;32m      1\u001b[0m \u001b[39mimport\u001b[39;00m \u001b[39mpickle\u001b[39;00m\n\u001b[0;32m      2\u001b[0m pickle_out\u001b[39m=\u001b[39m\u001b[39mopen\u001b[39m(\u001b[39m\"\u001b[39m\u001b[39mmodel2.pkl\u001b[39m\u001b[39m\"\u001b[39m,\u001b[39m\"\u001b[39m\u001b[39mwb\u001b[39m\u001b[39m\"\u001b[39m)\n\u001b[1;32m----> 3\u001b[0m pickle\u001b[39m.\u001b[39mdump(model,pickle_out)\n",
            "\u001b[1;31mNameError\u001b[0m: name 'model' is not defined"
          ]
        }
      ],
      "source": [
        "import pickle\n",
        "pickle_out=open(\"model2.pkl\",\"wb\")\n",
        "pickle.dump(model,pickle_out)\n",
        "#pickle_out.close()"
      ]
    },
    {
      "cell_type": "code",
      "execution_count": null,
      "metadata": {
        "id": "kxW9zRZJblou"
      },
      "outputs": [],
      "source": []
    }
  ],
  "metadata": {
    "colab": {
      "provenance": []
    },
    "kernelspec": {
      "display_name": "Python 3",
      "language": "python",
      "name": "python3"
    },
    "language_info": {
      "codemirror_mode": {
        "name": "ipython",
        "version": 3
      },
      "file_extension": ".py",
      "mimetype": "text/x-python",
      "name": "python",
      "nbconvert_exporter": "python",
      "pygments_lexer": "ipython3",
      "version": "3.10.5"
    },
    "vscode": {
      "interpreter": {
        "hash": "ec4659a12f542298a01dd6e54503a7eaf4b7eb4afbe6da4ba241b8ab6afca83f"
      }
    }
  },
  "nbformat": 4,
  "nbformat_minor": 0
}
